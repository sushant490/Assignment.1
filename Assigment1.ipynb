{
 "cells": [
  {
   "cell_type": "code",
   "execution_count": 7,
   "id": "285c2c2a-aabe-483b-9713-46bac114493c",
   "metadata": {},
   "outputs": [
    {
     "name": "stdout",
     "output_type": "stream",
     "text": [
      "Hello World\n",
      "Hello World\n"
     ]
    }
   ],
   "source": [
    "#Q1.How do you concatenate two strings in Python?\n",
    "\n",
    "#Using the + operator\n",
    "\n",
    "string1 = \"Hello\"\n",
    "string2 = \"World\"\n",
    "result = string1 + \" \" + string2\n",
    "print(result)\n",
    "\n",
    "#Using the join() method\n",
    "string_list = [\"Hello\", \" \", \"World\"]\n",
    "result = \"\".join(string_list)\n",
    "print(result) "
   ]
  },
  {
   "cell_type": "code",
   "execution_count": null,
   "id": "923bc22b-453e-4af9-994b-d24f15c65f3d",
   "metadata": {},
   "outputs": [],
   "source": [
    "#Q2.What is the di erence between the + operator and the join() method for concatenating strings?\n",
    "\n",
    "# + Operator: Simple and readable but not ideal for multiple concatenations in loops. join() Method: Highly efficient for concatenating lists of strings."
   ]
  },
  {
   "cell_type": "code",
   "execution_count": 9,
   "id": "7c23203e-d31d-47e7-bec7-1dee360da899",
   "metadata": {},
   "outputs": [
    {
     "data": {
      "text/plain": [
       "'H'"
      ]
     },
     "execution_count": 9,
     "metadata": {},
     "output_type": "execute_result"
    }
   ],
   "source": [
    "#Q3.3. How do you access individual characters in a string?\n",
    "\n",
    "# You can access the characters in a string by referring to its index number inside square brackets [].\n",
    "\n",
    "# This example prints the first character in myString:\n",
    "\n",
    "myString = \"Hello\"\n",
    "myString[0]"
   ]
  },
  {
   "cell_type": "code",
   "execution_count": 11,
   "id": "363784ae-770b-4061-8615-001da390e374",
   "metadata": {},
   "outputs": [
    {
     "name": "stdout",
     "output_type": "stream",
     "text": [
      "13\n"
     ]
    }
   ],
   "source": [
    "#Q4.What method is used to find the length of a string in Python?\n",
    "\n",
    "string = \"hellow python\"\n",
    "\n",
    "print(len(string))"
   ]
  },
  {
   "cell_type": "code",
   "execution_count": 13,
   "id": "cebef8bb-9aff-4fe0-baf6-c007e6ad08d1",
   "metadata": {},
   "outputs": [
    {
     "name": "stdout",
     "output_type": "stream",
     "text": [
      " HELLOW\n"
     ]
    }
   ],
   "source": [
    "#Q5.How can you convert a string to uppercase in Python?\n",
    "\n",
    "string =\" hellow\"\n",
    "print(string.upper())"
   ]
  },
  {
   "cell_type": "code",
   "execution_count": 15,
   "id": "90daa73e-01b9-44a6-8672-9ea38f220841",
   "metadata": {},
   "outputs": [
    {
     "name": "stdout",
     "output_type": "stream",
     "text": [
      "hellow\n"
     ]
    }
   ],
   "source": [
    "#Q6. How can you convert a string to lowercase in Python?\n",
    "\n",
    "string =\"HelLow\"\n",
    "print(string.lower())"
   ]
  },
  {
   "cell_type": "code",
   "execution_count": 17,
   "id": "86d2c20f-018d-4bb3-8221-5e26b601bcd8",
   "metadata": {},
   "outputs": [
    {
     "name": "stdout",
     "output_type": "stream",
     "text": [
      "Hellow\n"
     ]
    }
   ],
   "source": [
    "#Q7.What method is used to replace substrings within a string?\n",
    "\n",
    "string =\"HelLow\"\n",
    "print(string.replace(\"L\",\"l\"))"
   ]
  },
  {
   "cell_type": "code",
   "execution_count": 23,
   "id": "a3744d02-cb26-4575-b57e-30ee8f0729c2",
   "metadata": {},
   "outputs": [
    {
     "name": "stdout",
     "output_type": "stream",
     "text": [
      "['Hellow', 'python']\n"
     ]
    }
   ],
   "source": [
    "#Q8.How can you split a string into a list of substrings based on a delimiter?\n",
    "\n",
    "string = \"Hellow python\"\n",
    "\n",
    "# Split the string into a list of words based on whitespace (default separator)\n",
    "print(string.split())\n"
   ]
  },
  {
   "cell_type": "code",
   "execution_count": 29,
   "id": "eca076ac-b37e-4c2f-bb6c-d421ee49072c",
   "metadata": {},
   "outputs": [
    {
     "name": "stdout",
     "output_type": "stream",
     "text": [
      "True\n"
     ]
    }
   ],
   "source": [
    "#Q9.How do you check if a string starts with a particular substring? \n",
    "\n",
    "string = \"Hellow python\"\n",
    "\n",
    "print(string.startswith(\"H\"))"
   ]
  },
  {
   "cell_type": "code",
   "execution_count": 33,
   "id": "124541e3-9ab0-49dd-92b6-b5d0f3d3d8f4",
   "metadata": {},
   "outputs": [
    {
     "name": "stdout",
     "output_type": "stream",
     "text": [
      "True\n"
     ]
    }
   ],
   "source": [
    "#Q10. How do you check if a string ends with a particular substring?\n",
    "\n",
    "string = \"Hellow python\"\n",
    "\n",
    "print(string.endswith(\"n\"))"
   ]
  },
  {
   "cell_type": "code",
   "execution_count": 35,
   "id": "28af664c-c85e-4fd3-bb59-196a2517e9c4",
   "metadata": {},
   "outputs": [
    {
     "name": "stdout",
     "output_type": "stream",
     "text": [
      "example string with spaces  \n",
      "  example string with spaces\n"
     ]
    }
   ],
   "source": [
    "#Q11. How can you remove leading and trailing whitespace from a string? \n",
    "\n",
    "text = \"  example string with spaces  \"\n",
    "trimmed_left = text.lstrip()\n",
    "trimmed_right = text.rstrip()\n",
    "print(trimmed_left)  \n",
    "print(trimmed_right) "
   ]
  },
  {
   "cell_type": "code",
   "execution_count": 37,
   "id": "08523f07-ade9-4c45-b7cb-84ae7d66c3bb",
   "metadata": {},
   "outputs": [
    {
     "name": "stdout",
     "output_type": "stream",
     "text": [
      "7\n"
     ]
    }
   ],
   "source": [
    "#Q12. What method is used to find the index of the first occurrence of a substring within a string?\n",
    "\n",
    "string = \"Hellow python\"\n",
    "\n",
    "print(string.find(\"py\"))\n"
   ]
  },
  {
   "cell_type": "code",
   "execution_count": 43,
   "id": "a3aa7128-72af-495e-aa44-816b9db006b7",
   "metadata": {},
   "outputs": [
    {
     "name": "stdout",
     "output_type": "stream",
     "text": [
      "2\n"
     ]
    }
   ],
   "source": [
    "#Q13.How can you count the number of occurrences of a substring within a string? \n",
    "\n",
    "string = \"Hellow python\"\n",
    "\n",
    "print(string.count(\"l\"))"
   ]
  },
  {
   "cell_type": "code",
   "execution_count": 45,
   "id": "fc13b7b1-ba27-40d7-965f-9ebb938a30f6",
   "metadata": {},
   "outputs": [
    {
     "name": "stdout",
     "output_type": "stream",
     "text": [
      "False\n",
      "True\n"
     ]
    }
   ],
   "source": [
    "#Q14. How do you check if a string contains only alphabetic characters?\n",
    "\n",
    "string1 = \"12345\"\n",
    "string2 = \"hellow\"\n",
    "\n",
    "print(string1.isalpha())\n",
    "print(string2.isalpha())\n"
   ]
  },
  {
   "cell_type": "code",
   "execution_count": 1,
   "id": "9f63a3c9-c5a8-46d1-88f3-a80a8198feae",
   "metadata": {},
   "outputs": [
    {
     "name": "stdout",
     "output_type": "stream",
     "text": [
      "True\n",
      "False\n"
     ]
    }
   ],
   "source": [
    "#Q15. How do you check if a string contains only numeric characters?\n",
    "\n",
    "string1 = \"12345\"\n",
    "string2 = \"hellow\"\n",
    "\n",
    "print(string1.isnumeric())\n",
    "print(string2.isnumeric())"
   ]
  },
  {
   "cell_type": "code",
   "execution_count": 61,
   "id": "182f6943-48a8-429e-b3ca-72a88d807835",
   "metadata": {},
   "outputs": [
    {
     "data": {
      "text/plain": [
       "False"
      ]
     },
     "execution_count": 61,
     "metadata": {},
     "output_type": "execute_result"
    }
   ],
   "source": [
    "#Q16. How can you check if a string is a palindrome?\n",
    "\n",
    "string = \"python\"\n",
    "\n",
    "revese = string[::-1]\n",
    "\n",
    "string == reverse"
   ]
  },
  {
   "cell_type": "code",
   "execution_count": 63,
   "id": "90aec5db-604a-4234-adff-99814bfa331e",
   "metadata": {},
   "outputs": [
    {
     "data": {
      "text/plain": [
       "'nohtyp'"
      ]
     },
     "execution_count": 63,
     "metadata": {},
     "output_type": "execute_result"
    }
   ],
   "source": [
    "#Q17 How can you reverse a string in Python?\n",
    "\n",
    "string = \"python\"\n",
    "\n",
    "string[::-1]"
   ]
  },
  {
   "cell_type": "code",
   "execution_count": 69,
   "id": "8f07bcfb-a9f8-4f69-b44b-524509a5b6bb",
   "metadata": {},
   "outputs": [
    {
     "name": "stdout",
     "output_type": "stream",
     "text": [
      "My name is Sachin and my age is  23\n",
      "My name is Sachin and my age is  23\n",
      "My name is Sachin and my age is  23\n"
     ]
    }
   ],
   "source": [
    "#Q18 How do you format a string with placeholders for variable values?\n",
    "\n",
    "#{}\" (format() method), \"{name}\" (f-strings), %s (legacy % formatting)\n",
    "\n",
    "name = \"Sachin\"\n",
    "age = \" 23\"\n",
    "\n",
    "print(\"My name is %s and my age is %s\"%(name,age))\n",
    "print(\"My name is {} and my age is {}\".format(name,age))\n",
    "print(f\"My name is {name} and my age is {age}\")"
   ]
  },
  {
   "cell_type": "code",
   "execution_count": 71,
   "id": "8c5e7f0b-11e8-401f-b17e-4b9c299444bf",
   "metadata": {},
   "outputs": [
    {
     "data": {
      "text/plain": [
       "'llo'"
      ]
     },
     "execution_count": 71,
     "metadata": {},
     "output_type": "execute_result"
    }
   ],
   "source": [
    "#Q19 How do you access a substring of a string using slicing?\n",
    "\n",
    "string = \"Hellow python\"\n",
    "\n",
    "string[2:5:]"
   ]
  },
  {
   "cell_type": "code",
   "execution_count": 75,
   "id": "2ad89cea-732c-4430-8c86-7ff5d53cb67f",
   "metadata": {},
   "outputs": [
    {
     "name": "stdout",
     "output_type": "stream",
     "text": [
      "Hellowpython\n"
     ]
    }
   ],
   "source": [
    "#Q2 How can you remove specific characters from a string in Python?\n",
    "\n",
    "string = \"Hellow python\"\n",
    "\n",
    "print(string.replace(\" \",\"\"))\n"
   ]
  },
  {
   "cell_type": "code",
   "execution_count": null,
   "id": "2f9c6c8c-30fb-4c05-8aea-4ffece240cd5",
   "metadata": {},
   "outputs": [],
   "source": []
  }
 ],
 "metadata": {
  "kernelspec": {
   "display_name": "Python [conda env:base] *",
   "language": "python",
   "name": "conda-base-py"
  },
  "language_info": {
   "codemirror_mode": {
    "name": "ipython",
    "version": 3
   },
   "file_extension": ".py",
   "mimetype": "text/x-python",
   "name": "python",
   "nbconvert_exporter": "python",
   "pygments_lexer": "ipython3",
   "version": "3.12.7"
  }
 },
 "nbformat": 4,
 "nbformat_minor": 5
}
